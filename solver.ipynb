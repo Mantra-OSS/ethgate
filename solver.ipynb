{
 "cells": [
  {
   "cell_type": "code",
   "execution_count": 2,
   "metadata": {
    "dotnet_interactive": {
     "language": "javascript"
    },
    "polyglot_notebook": {
     "kernelName": "javascript"
    }
   },
   "outputs": [
    {
     "name": "stdout",
     "output_type": "stream",
     "text": [
      "Requirement already satisfied: aiohttp[speedups] in ./.venv/lib/python3.11/site-packages (3.8.6)\n",
      "Requirement already satisfied: attrs>=17.3.0 in ./.venv/lib/python3.11/site-packages (from aiohttp[speedups]) (23.1.0)\n",
      "Requirement already satisfied: charset-normalizer<4.0,>=2.0 in ./.venv/lib/python3.11/site-packages (from aiohttp[speedups]) (3.3.2)\n",
      "Requirement already satisfied: multidict<7.0,>=4.5 in ./.venv/lib/python3.11/site-packages (from aiohttp[speedups]) (6.0.4)\n",
      "Requirement already satisfied: async-timeout<5.0,>=4.0.0a3 in ./.venv/lib/python3.11/site-packages (from aiohttp[speedups]) (4.0.3)\n",
      "Requirement already satisfied: yarl<2.0,>=1.0 in ./.venv/lib/python3.11/site-packages (from aiohttp[speedups]) (1.9.2)\n",
      "Requirement already satisfied: frozenlist>=1.1.1 in ./.venv/lib/python3.11/site-packages (from aiohttp[speedups]) (1.4.0)\n",
      "Requirement already satisfied: aiosignal>=1.1.2 in ./.venv/lib/python3.11/site-packages (from aiohttp[speedups]) (1.3.1)\n",
      "Requirement already satisfied: aiodns in ./.venv/lib/python3.11/site-packages (from aiohttp[speedups]) (3.1.1)\n",
      "Requirement already satisfied: Brotli in ./.venv/lib/python3.11/site-packages (from aiohttp[speedups]) (1.1.0)\n",
      "Requirement already satisfied: idna>=2.0 in ./.venv/lib/python3.11/site-packages (from yarl<2.0,>=1.0->aiohttp[speedups]) (3.4)\n",
      "Requirement already satisfied: pycares>=4.0.0 in ./.venv/lib/python3.11/site-packages (from aiodns->aiohttp[speedups]) (4.4.0)\n",
      "Requirement already satisfied: cffi>=1.5.0 in ./.venv/lib/python3.11/site-packages (from pycares>=4.0.0->aiodns->aiohttp[speedups]) (1.16.0)\n",
      "Requirement already satisfied: pycparser in ./.venv/lib/python3.11/site-packages (from cffi>=1.5.0->pycares>=4.0.0->aiodns->aiohttp[speedups]) (2.21)\n",
      "Note: you may need to restart the kernel to use updated packages.\n",
      "Requirement already satisfied: gql[all] in ./.venv/lib/python3.11/site-packages (3.4.1)\n",
      "Requirement already satisfied: graphql-core<3.3,>=3.2 in ./.venv/lib/python3.11/site-packages (from gql[all]) (3.2.3)\n",
      "Requirement already satisfied: yarl<2.0,>=1.6 in ./.venv/lib/python3.11/site-packages (from gql[all]) (1.9.2)\n",
      "Requirement already satisfied: backoff<3.0,>=1.11.1 in ./.venv/lib/python3.11/site-packages (from gql[all]) (2.2.1)\n",
      "Requirement already satisfied: aiohttp<3.9.0,>=3.7.1 in ./.venv/lib/python3.11/site-packages (from gql[all]) (3.8.6)\n",
      "Requirement already satisfied: requests<3,>=2.26 in ./.venv/lib/python3.11/site-packages (from gql[all]) (2.31.0)\n",
      "Requirement already satisfied: requests-toolbelt<1,>=0.9.1 in ./.venv/lib/python3.11/site-packages (from gql[all]) (0.10.1)\n",
      "Requirement already satisfied: urllib3<2,>=1.26 in ./.venv/lib/python3.11/site-packages (from gql[all]) (1.26.18)\n",
      "Requirement already satisfied: botocore<2,>=1.21 in ./.venv/lib/python3.11/site-packages (from gql[all]) (1.31.84)\n",
      "Requirement already satisfied: websockets<11,>=10 in ./.venv/lib/python3.11/site-packages (from gql[all]) (10.4)\n",
      "Requirement already satisfied: attrs>=17.3.0 in ./.venv/lib/python3.11/site-packages (from aiohttp<3.9.0,>=3.7.1->gql[all]) (23.1.0)\n",
      "Requirement already satisfied: charset-normalizer<4.0,>=2.0 in ./.venv/lib/python3.11/site-packages (from aiohttp<3.9.0,>=3.7.1->gql[all]) (3.3.2)\n",
      "Requirement already satisfied: multidict<7.0,>=4.5 in ./.venv/lib/python3.11/site-packages (from aiohttp<3.9.0,>=3.7.1->gql[all]) (6.0.4)\n",
      "Requirement already satisfied: async-timeout<5.0,>=4.0.0a3 in ./.venv/lib/python3.11/site-packages (from aiohttp<3.9.0,>=3.7.1->gql[all]) (4.0.3)\n",
      "Requirement already satisfied: frozenlist>=1.1.1 in ./.venv/lib/python3.11/site-packages (from aiohttp<3.9.0,>=3.7.1->gql[all]) (1.4.0)\n",
      "Requirement already satisfied: aiosignal>=1.1.2 in ./.venv/lib/python3.11/site-packages (from aiohttp<3.9.0,>=3.7.1->gql[all]) (1.3.1)\n",
      "Requirement already satisfied: jmespath<2.0.0,>=0.7.1 in ./.venv/lib/python3.11/site-packages (from botocore<2,>=1.21->gql[all]) (1.0.1)\n",
      "Requirement already satisfied: python-dateutil<3.0.0,>=2.1 in ./.venv/lib/python3.11/site-packages (from botocore<2,>=1.21->gql[all]) (2.8.2)\n",
      "Requirement already satisfied: idna<4,>=2.5 in ./.venv/lib/python3.11/site-packages (from requests<3,>=2.26->gql[all]) (3.4)\n",
      "Requirement already satisfied: certifi>=2017.4.17 in ./.venv/lib/python3.11/site-packages (from requests<3,>=2.26->gql[all]) (2023.7.22)\n",
      "Requirement already satisfied: six>=1.5 in ./.venv/lib/python3.11/site-packages (from python-dateutil<3.0.0,>=2.1->botocore<2,>=1.21->gql[all]) (1.16.0)\n",
      "Note: you may need to restart the kernel to use updated packages.\n",
      "\u001b[31mERROR: Could not find a version that satisfies the requirement urlparse (from versions: none)\u001b[0m\u001b[31m\n",
      "\u001b[0m\u001b[31mERROR: No matching distribution found for urlparse\u001b[0m\u001b[31m\n",
      "\u001b[0mNote: you may need to restart the kernel to use updated packages.\n"
     ]
    }
   ],
   "source": [
    "%pip install \"aiohttp[speedups]\"\n",
    "%pip install \"gql[all]\""
   ]
  },
  {
   "cell_type": "code",
   "execution_count": 13,
   "metadata": {},
   "outputs": [
    {
     "name": "stdout",
     "output_type": "stream",
     "text": [
      "Status: 200\n",
      "Content-type: application/json\n",
      "['node',\n",
      " {'chainId': 'Chain:10',\n",
      "  'data': {'chainId': '10',\n",
      "           'extra': {'chainId': '10',\n",
      "                     'currency': {'decimals': 18,\n",
      "                                  'name': 'Ether',\n",
      "                                  'symbol': 'ETH'},\n",
      "                     'explorers': [{'name': 'etherscan',\n",
      "                                    'standard': 'EIP3091',\n",
      "                                    'url': 'https://optimistic.etherscan.io'},\n",
      "                                   {'icon': 'blockscout',\n",
      "                                    'name': 'blockscout',\n",
      "                                    'standard': 'EIP3091',\n",
      "                                    'url': 'https://optimism.blockscout.com'},\n",
      "                                   {'icon': 'dexguru',\n",
      "                                    'name': 'dexguru',\n",
      "                                    'standard': 'EIP3091',\n",
      "                                    'url': 'https://optimism.dex.guru'}],\n",
      "                     'meta': {'name': 'Optimism',\n",
      "                              'slug': 'op',\n",
      "                              'url': 'https://optimism.io'},\n",
      "                     'parent': {'bridges': [{'url': 'https://app.optimism.io/bridge'}],\n",
      "                                'chainId': '1'},\n",
      "                     'rpcs': [{'source': 'test',\n",
      "                               'url': 'https://rpc.ankr.com/optimism/76762485520f9253f89fb9e66afaff8a50f80fb99537c4a09284b1743dcf5eda'}]},\n",
      "           'meta': {'name': 'Optimism',\n",
      "                    'slug': 'op',\n",
      "                    'url': 'https://optimism.io'},\n",
      "           'parent': {'bridges': [{'url': 'https://app.optimism.io/bridge'}],\n",
      "                      'chainId': '1'},\n",
      "           'parentId': '1',\n",
      "           'rpcs': [{'source': 'test',\n",
      "                     'url': 'https://rpc.ankr.com/optimism/76762485520f9253f89fb9e66afaff8a50f80fb99537c4a09284b1743dcf5eda'}]},\n",
      "  'id': 'Chain:10',\n",
      "  'meta': {'chainId': 'Chain:10',\n",
      "           'name': 'Optimism',\n",
      "           'nodePath': ['Chain:10'],\n",
      "           'slug': 'op',\n",
      "           'themeColor': '#ff0000'},\n",
      "  'parentId': 'Chain:1',\n",
      "  'type': 'Chain'}]\n"
     ]
    }
   ],
   "source": [
    "import aiohttp\n",
    "import json\n",
    "from urllib.parse import urljoin\n",
    "from pprint import pprint\n",
    "\n",
    "api_url = 'http://localhost:3000/api/'\n",
    "\n",
    "async with aiohttp.ClientSession() as session:\n",
    "  async with session.get(urljoin(api_url, 'chains/op')) as response:\n",
    "    print(\"Status:\", response.status)\n",
    "    print(\"Content-type:\", response.headers['content-type'])\n",
    "    body = await response.text()\n",
    "    pprint(json.loads(body))"
   ]
  },
  {
   "cell_type": "code",
   "execution_count": null,
   "metadata": {},
   "outputs": [],
   "source": [
    "# from gql import gql, Client\n",
    "# from gql.transport.aiohttp import AIOHTTPTransport\n",
    "\n",
    "# # with open('solver.graphql') as f:\n",
    "# #     schema_str = f.read()\n",
    "\n",
    "# # client = Client(schema=schema_str)\n",
    "\n",
    "# # Select your transport with a defined url endpoint\n",
    "# transport = AIOHTTPTransport(url=\"https://countries.trevorblades.com/\")\n",
    "\n",
    "\n",
    "\n",
    "# # Create a GraphQL client using the defined transport\n",
    "# client = Client(transport=transport, fetch_schema_from_transport=True)\n",
    "\n",
    "# # Provide a GraphQL query\n",
    "# query = gql(\n",
    "#     \"\"\"\n",
    "#     query getContinents {\n",
    "#       continents {\n",
    "#         code\n",
    "#         name\n",
    "#       }\n",
    "#     }\n",
    "# \"\"\"\n",
    "# )\n",
    "\n",
    "# # Execute the query on the transport\n",
    "# result = await client.execute_async(query)\n",
    "# print(result)"
   ]
  }
 ],
 "metadata": {
  "kernelspec": {
   "display_name": ".venv",
   "language": "python",
   "name": "python3"
  },
  "language_info": {
   "codemirror_mode": {
    "name": "ipython",
    "version": 3
   },
   "file_extension": ".py",
   "mimetype": "text/x-python",
   "name": "python",
   "nbconvert_exporter": "python",
   "pygments_lexer": "ipython3",
   "version": "3.11.4"
  },
  "polyglot_notebook": {
   "kernelInfo": {
    "defaultKernelName": "javascript",
    "items": [
     {
      "aliases": [],
      "languageName": "javascript",
      "name": "javascript"
     }
    ]
   }
  }
 },
 "nbformat": 4,
 "nbformat_minor": 2
}
